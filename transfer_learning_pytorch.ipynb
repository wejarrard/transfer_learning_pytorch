{
  "cells": [
    {
      "cell_type": "markdown",
      "metadata": {
        "id": "eBaOD2dmxZu0"
      },
      "source": [
        "# Transfer Learning Using Pytorch"
      ]
    },
    {
      "cell_type": "markdown",
      "metadata": {
        "id": "rTnqlZG8x82S"
      },
      "source": [
        "## Imports"
      ]
    },
    {
      "cell_type": "code",
      "execution_count": 27,
      "metadata": {
        "colab": {
          "base_uri": "https://localhost:8080/"
        },
        "id": "RY6fwdTPx_iY",
        "outputId": "10aadad3-510d-4294-c6d6-bd0c56a4a1b6"
      },
      "outputs": [
        {
          "name": "stdout",
          "output_type": "stream",
          "text": [
            "Drive already mounted at /content/drive; to attempt to forcibly remount, call drive.mount(\"/content/drive\", force_remount=True).\n",
            "[Errno 2] No such file or directory: 'drive/MyDrive/MSDS Spring/deeplearning'\n",
            "/content/drive/.shortcut-targets-by-id/1eNAO8TfHfvKSUgq3DbaFUHpT7f4gcTwH/MSDS Spring/deeplearning\n"
          ]
        }
      ],
      "source": [
        "import torch\n",
        "import torch.nn as nn\n",
        "import torchvision\n",
        "import numpy as np\n",
        "from tqdm import tqdm\n",
        "import time\n",
        "import copy\n",
        "from torch.utils.data import Dataset, Subset, random_split, DataLoader\n",
        "import torchvision.transforms as transforms\n",
        "import torchvision.datasets as datasets\n",
        "import matplotlib.pyplot as plt\n",
        "from google.colab import drive\n",
        "import os\n",
        "from torchsummary import summary\n",
        "\n",
        "drive.mount('/content/drive')\n",
        "%matplotlib inline\n",
        "%cd drive/MyDrive/MSDS\\ Spring/deeplearning"
      ]
    },
    {
      "cell_type": "markdown",
      "metadata": {
        "id": "6gQ4db26yobr"
      },
      "source": [
        "## Read and Explore Data"
      ]
    },
    {
      "cell_type": "markdown",
      "metadata": {
        "id": "hafza95G8BhR"
      },
      "source": [
        "### Set device if using GPU"
      ]
    },
    {
      "cell_type": "code",
      "execution_count": 3,
      "metadata": {
        "colab": {
          "base_uri": "https://localhost:8080/"
        },
        "id": "v37U2k2fxZu7",
        "outputId": "9729ca98-d26c-471f-af0f-15f1cb276c78"
      },
      "outputs": [
        {
          "name": "stdout",
          "output_type": "stream",
          "text": [
            "cuda\n",
            "1 gpus detected.\n"
          ]
        }
      ],
      "source": [
        "# Set device\n",
        "device = torch.device(\"cuda\" if torch.cuda.is_available() else \"cpu\")\n",
        "print(device)\n",
        "\n",
        "# Check for multiple gpus (I just came across this and wanted to have it in case i use it in the future, not using it during this hw)\n",
        "if torch.cuda.is_available():\n",
        "    gpu_count = torch.cuda.device_count()\n",
        "    print(f'{gpu_count} gpus detected.')\n",
        "    if gpu_count > 1:\n",
        "        multi_gpu = True\n",
        "    else:\n",
        "        multi_gpu = False"
      ]
    },
    {
      "cell_type": "markdown",
      "metadata": {
        "id": "qpn7pti9zAGj"
      },
      "source": [
        "### Define functions and classes for data preprocessing"
      ]
    },
    {
      "cell_type": "code",
      "execution_count": 4,
      "metadata": {
        "id": "lADex7pQxZu_"
      },
      "outputs": [],
      "source": [
        "# Get mean and std\n",
        "def getMeanStd(loader):\n",
        "    # var[X] = E[X**2] - E[X]**2\n",
        "    channels_sum, channels_sqrd_sum, num_batches = 0, 0, 0\n",
        "\n",
        "    for data, _ in tqdm(loader):\n",
        "        channels_sum += torch.mean(data, dim=[0, 2, 3])\n",
        "        channels_sqrd_sum += torch.mean(data ** 2, dim=[0, 2, 3])\n",
        "        num_batches += 1\n",
        "\n",
        "    mean = channels_sum / num_batches\n",
        "    std = (channels_sqrd_sum / num_batches - mean ** 2) ** 0.5\n",
        "\n",
        "    return mean, std\n",
        "\n",
        "# Need to do this to add transformations to training but not to validation\n",
        "class PrepData(Dataset):\n",
        "    def __init__(self, dataset, transform=None):\n",
        "        self.dataset = dataset\n",
        "        self.transform = transform\n",
        "\n",
        "    def __getitem__(self, index):\n",
        "        if self.transform:\n",
        "            x = self.transform(dataset[index][0])\n",
        "        else:\n",
        "            x = dataset[index][0]\n",
        "        y = dataset[index][1]\n",
        "        return x, y\n",
        "    \n",
        "    def __len__(self):\n",
        "        return len(dataset)\n",
        "    \n",
        "class PadImage(object):\n",
        "    def __call__(self, img):\n",
        "\n",
        "        width, height = transforms.functional.get_image_size(img) \n",
        "        \n",
        "        if width > height:\n",
        "            height_padding = ((width - height) // 2)\n",
        "            img = transforms.functional.pad(img, [0, height_padding])\n",
        "        else:\n",
        "            width_padding = ((height - width) // 2)\n",
        "            img = transforms.functional.pad(img, [width_padding, 0])           \n",
        "\n",
        "        return img\n",
        "\n",
        "    def __repr__(self):\n",
        "        return self.__class__.__name__+'()'"
      ]
    },
    {
      "cell_type": "markdown",
      "metadata": {
        "id": "auQOxs_qBCFi"
      },
      "source": [
        "### Get mean and standard deviation of train dataset to normalize our images (Only need to do this once so its commented out)"
      ]
    },
    {
      "cell_type": "code",
      "execution_count": null,
      "metadata": {
        "id": "3lxYjfm_A8qI"
      },
      "outputs": [],
      "source": [
        "# # Parameters\n",
        "# data_dir = \"./content/dataset\"\n",
        "# batch_size = 64\n",
        "# img_height = 224\n",
        "# img_width = 224\n",
        "# train_size = 0.85\n",
        "# num_workers = 2\n",
        "\n",
        "# # Basic transformation for loading to get mean and std of data set\n",
        "# datatransform = transforms.Compose([\n",
        "#     transforms.ToTensor(),\n",
        "#     transforms.Resize((img_height, img_width))\n",
        "# ])\n",
        "\n",
        "# # Load dataset\n",
        "# dataset = datasets.ImageFolder(data_dir, transform=datatransform)\n",
        "\n",
        "# # Create the index splits for training, validation and test\n",
        "# num_train = len(dataset)\n",
        "# indices = list(range(num_train))\n",
        "# split = int(np.floor(train_size * num_train))\n",
        "# np.random.seed(1999)\n",
        "# np.random.shuffle(indices)\n",
        "# train_idx, valid_idx = indices[:split], indices[split:]\n",
        "\n",
        "# # Get mean and std of training subset (before transformations) - dont want to use test and valid for this part\n",
        "# traindataset = PrepData(dataset)\n",
        "# traindata = Subset(traindataset, indices=train_idx)\n",
        "# trainloader = DataLoader(traindata, batch_size=batch_size, num_workers=num_workers, drop_last=True)\n",
        "# mean, std = getMeanStd(trainloader)"
      ]
    },
    {
      "cell_type": "markdown",
      "metadata": {
        "id": "6SUJnV49z7Al"
      },
      "source": [
        "### Apply Preprocessing and take a look at the data we have"
      ]
    },
    {
      "cell_type": "code",
      "execution_count": 15,
      "metadata": {
        "id": "d1tIFqeCxZvA"
      },
      "outputs": [],
      "source": [
        "# Parameters\n",
        "data_dir = \"./content/dataset\"\n",
        "batch_size = 64\n",
        "img_height = 224\n",
        "img_width = 224\n",
        "train_size = 0.85\n",
        "num_workers = 2\n",
        "mean = torch.tensor([0.4407, 0.4332, 0.4326])\n",
        "std = torch.tensor([0.2520, 0.2610, 0.2906])\n",
        "\n",
        "# Basic transformation for loading to get mean and std of data set\n",
        "\n",
        "dataset = datasets.ImageFolder(data_dir)\n",
        "\n",
        "# Create the index splits for training, validation and test (test we dont have any for this)\n",
        "num_train = len(dataset)\n",
        "indices = list(range(num_train))\n",
        "split = int(np.floor(train_size * num_train))\n",
        "np.random.seed(1999)\n",
        "np.random.shuffle(indices)\n",
        "train_idx, valid_idx = indices[:split], indices[split:]\n",
        "\n",
        "# Set transforms\n",
        "traintransform = transforms.Compose([\n",
        "    transforms.ToTensor(),\n",
        "    PadImage(),\n",
        "    transforms.Resize((img_height, img_width)),\n",
        "    transforms.ColorJitter(brightness=0.01),\n",
        "    transforms.RandomAffine(degrees = 10, shear = 45),\n",
        "    transforms.Normalize(mean, std)\n",
        "])\n",
        "\n",
        "testtransform = transforms.Compose([\n",
        "    transforms.ToTensor(),\n",
        "    PadImage(),\n",
        "    transforms.Resize((img_height, img_width)),\n",
        "    transforms.Normalize(mean, std)\n",
        "])\n",
        "\n",
        "# Apply transformations\n",
        "traindataset = PrepData(dataset,traintransform)\n",
        "valdataset = PrepData(dataset,testtransform)\n",
        "\n",
        "# Use same subset as above\n",
        "traindata = Subset(traindataset, indices=train_idx)\n",
        "valdata = Subset(valdataset, indices=valid_idx)\n",
        "\n",
        "\n",
        "trainloader = DataLoader(traindata, batch_size=batch_size,\n",
        "                         num_workers=num_workers, drop_last=True)\n",
        "validloader = DataLoader(valdata, batch_size=batch_size,\n",
        "                         num_workers=num_workers, drop_last=True)\n"
      ]
    },
    {
      "cell_type": "markdown",
      "metadata": {
        "id": "_AEQmkDUz_VX"
      },
      "source": [
        "### Visualize what our data looks like after transformations are applied"
      ]
    },
    {
      "cell_type": "code",
      "execution_count": 20,
      "metadata": {
        "colab": {
          "base_uri": "https://localhost:8080/",
          "height": 304
        },
        "id": "pAVkuDc9xZvB",
        "outputId": "20b1a5cb-9086-441f-8489-439979d02363"
      },
      "outputs": [
        {
          "name": "stderr",
          "output_type": "stream",
          "text": [
            "Clipping input data to the valid range for imshow with RGB data ([0..1] for floats or [0..255] for integers).\n"
          ]
        },
        {
          "data": {
            "text/plain": [
              "<matplotlib.image.AxesImage at 0x7f444576e650>"
            ]
          },
          "execution_count": 20,
          "metadata": {},
          "output_type": "execute_result"
        },
        {
          "data": {
            "image/png": "[encoded data removed]",
            "text/plain": [
              "<Figure size 432x288 with 1 Axes>"
            ]
          },
          "metadata": {
            "needs_background": "light"
          },
          "output_type": "display_data"
        }
      ],
      "source": [
        "dataiter = iter(trainloader)\n",
        "images, labels = dataiter.next()\n",
        "plt.imshow(np.transpose(images[1].cpu().detach().numpy(), (1, 2, 0)))"
      ]
    },
    {
      "cell_type": "markdown",
      "metadata": {
        "id": "bMnZ9Wi00HTe"
      },
      "source": [
        "### Get Classes and count of classes to see if they are imbalanced"
      ]
    },
    {
      "cell_type": "code",
      "execution_count": 22,
      "metadata": {
        "colab": {
          "base_uri": "https://localhost:8080/"
        },
        "id": "hj6qDS1xxZvD",
        "outputId": "88bf4a31-0009-44a3-a910-6f5891d663d1"
      },
      "outputs": [
        {
          "data": {
            "text/plain": [
              "{'AcademicalVillage': 408,\n",
              " 'AldermanLibrary': 742,\n",
              " 'AlumniHall': 457,\n",
              " 'AquaticFitnessCenter': 556,\n",
              " 'BravoHall': 200,\n",
              " 'BrooksHall': 410,\n",
              " 'ClarkHall': 849,\n",
              " 'MadisonHall': 368,\n",
              " 'MinorHall': 760,\n",
              " 'NewCabellHall': 636,\n",
              " 'NewcombHall': 716,\n",
              " 'OldCabellHall': 832,\n",
              " 'OlssonHall': 995,\n",
              " 'RiceHall': 1460,\n",
              " 'Rotunda': 1569,\n",
              " 'ScottStadium': 1257,\n",
              " 'ThorntonHall': 1219,\n",
              " 'UniversityChapel': 857}"
            ]
          },
          "execution_count": 22,
          "metadata": {},
          "output_type": "execute_result"
        }
      ],
      "source": [
        "classes = sorted([x[0][len(data_dir) + 1:] for x in os.walk(data_dir)][1:])\n",
        "\n",
        "class_count = dict(zip(classes, torch.unique(torch.tensor(dataset.targets), return_counts=True)[1].tolist()))\n",
        "\n",
        "class_count"
      ]
    },
    {
      "cell_type": "markdown",
      "metadata": {
        "id": "HDSfFVeD0nFe"
      },
      "source": [
        "### Define model and get its summary"
      ]
    },
    {
      "cell_type": "code",
      "execution_count": 30,
      "metadata": {
        "id": "0W69BFSSxZvD"
      },
      "outputs": [],
      "source": [
        "model = torchvision.models.regnet_y_16gf(pretrained=True)\n",
        "\n",
        "# Freeze all the layers bar the last one\n",
        "for param in model.parameters():\n",
        "    param.requires_grad = False\n",
        "\n",
        "output_units = len(class_count)\n",
        "    \n",
        "# Change the number of output units\n",
        "model.fc = nn.Linear(3024, output_units)\n",
        "\n",
        "# print summary (commented out because its long)\n",
        "# summary(model.to(device),\n",
        "#     input_size=(3, img_height, img_width), \n",
        "#     batch_size=batch_size, \n",
        "#     device='cuda')\n"
      ]
    },
    {
      "cell_type": "markdown",
      "metadata": {
        "id": "6mHCQTxM03tK"
      },
      "source": [
        "### Make sure model overfits on a small amount of data (one batch)"
      ]
    },
    {
      "cell_type": "code",
      "execution_count": 32,
      "metadata": {
        "colab": {
          "base_uri": "https://localhost:8080/"
        },
        "id": "aKTt66f6xZvE",
        "outputId": "329cb213-e0cc-432c-8c2f-c1d999966860"
      },
      "outputs": [
        {
          "name": "stdout",
          "output_type": "stream",
          "text": [
            "Cost at epoch 0 is 0.84587\n",
            "Cost at epoch 10 is 0.50477\n",
            "Cost at epoch 20 is 0.29568\n",
            "Cost at epoch 30 is 0.18343\n",
            "Cost at epoch 40 is 0.12406\n",
            "Cost at epoch 50 is 0.09078\n",
            "Cost at epoch 60 is 0.07067\n",
            "Cost at epoch 70 is 0.05755\n",
            "Cost at epoch 80 is 0.04840\n",
            "Cost at epoch 90 is 0.04166\n"
          ]
        }
      ],
      "source": [
        "# Network\n",
        "model = model.to(device) \n",
        "\n",
        "#just in case i want to use multiple gpus (this is for my own personal use, not using it in this class)\n",
        "if multi_gpu:\n",
        "    model = nn.DataParallel(model)\n",
        "\n",
        "# Loss and optimizer\n",
        "optimizer = torch.optim.Adam(model.parameters(), lr=3e-4, weight_decay=.001)\n",
        "criterion = nn.CrossEntropyLoss()\n",
        "num_epochs = 100\n",
        "\n",
        "data, targets = next(iter(trainloader))\n",
        "\n",
        "# Train Network\n",
        "for epoch in range(num_epochs):\n",
        "    losses = []\n",
        "    data = data.to(device=device)\n",
        "    targets = targets.to(device=device)\n",
        "\n",
        "    # forward\n",
        "    scores = model(data)\n",
        "    loss = criterion(scores, targets)\n",
        "\n",
        "    losses.append(loss.item())\n",
        "    \n",
        "    # backward\n",
        "    optimizer.zero_grad()\n",
        "    loss.backward()\n",
        "\n",
        "    # gradient descent or adam step\n",
        "    optimizer.step()\n",
        "    if epoch % 10 == 0:\n",
        "        print(f\"Cost at epoch {epoch} is {sum(losses)/len(losses):.5f}\")\n"
      ]
    },
    {
      "cell_type": "markdown",
      "metadata": {
        "id": "NIIrgNKwxZvE"
      },
      "source": [
        "## Training"
      ]
    },
    {
      "cell_type": "markdown",
      "metadata": {
        "id": "7zJw-etB6b0-"
      },
      "source": [
        "### Define Functions For Training"
      ]
    },
    {
      "cell_type": "code",
      "execution_count": 71,
      "metadata": {
        "id": "d9C-D6Ks6pma"
      },
      "outputs": [],
      "source": [
        "def save_checkpoint(state, filename=\"my_checkpoint.pth.tar\"):\n",
        "    print(\"=> Saving checkpoint\")\n",
        "    torch.save(state, filename)\n",
        "\n",
        "\n",
        "def load_checkpoint(checkpoint, model, optimizer):\n",
        "    print(\"=> Loading checkpoint\")\n",
        "    model.load_state_dict(checkpoint['state_dict'])\n",
        "    optimizer.load_state_dict(checkpoint['optimizer'])\n",
        "\n",
        "def train_one_epoch(loader, model, optimizer, loss_fn, scaler, device):\n",
        "    for batch_idx, (data, targets) in enumerate(tqdm(loader)):\n",
        "        # Get data to cuda if possible\n",
        "        data = data.to(device=device)\n",
        "        targets = targets.to(device=device)\n",
        "\n",
        "        # forward\n",
        "        with torch.cuda.amp.autocast():\n",
        "            scores = model(data)\n",
        "            loss = loss_fn(scores, targets)\n",
        "\n",
        "        # backward\n",
        "        optimizer.zero_grad()\n",
        "        scaler.scale(loss).backward()\n",
        "        scaler.step(optimizer)\n",
        "        scaler.update()\n",
        "\n",
        "def check_accuracy(loader, model):\n",
        "    num_correct = 0\n",
        "    num_samples = 0\n",
        "    model.eval()\n",
        "\n",
        "    with torch.no_grad():\n",
        "        for x, y in loader:\n",
        "            x = x.to(device=device)\n",
        "            y = y.to(device=device)\n",
        "\n",
        "            scores = model(x)\n",
        "            _, predictions = scores.max(1)\n",
        "            num_correct += (predictions == y).sum()\n",
        "            num_samples += predictions.size(0)\n",
        "\n",
        "        print(f'Got {num_correct} / {num_samples} with accuracy {float(num_correct) / float(num_samples) * 100:.2f}')\n",
        "\n",
        "    model.train()\n",
        "\n",
        "    return float(num_correct) / float(num_samples) * 100\n",
        "\n",
        "class EarlyStopping():\n",
        "    def __init__(self, max_epochs):\n",
        "        self.max_epochs = max_epochs\n",
        "        self.current_epochs = 0\n",
        "        self.best_acc = 0\n",
        "\n",
        "    def __call__(self, current_acc):\n",
        "        if current_acc > self.best_acc:\n",
        "            self.best_acc = current_acc\n",
        "            self.current_epochs = 0\n",
        "        else:\n",
        "            self.current_epochs += 1\n",
        "            if self.current_epochs >= self.max_epochs:\n",
        "                print(\"Early Stopping!\")\n",
        "                return True\n"
      ]
    },
    {
      "cell_type": "markdown",
      "metadata": {
        "id": "njy8vZoy6pus"
      },
      "source": [
        "### Train Model"
      ]
    },
    {
      "cell_type": "code",
      "execution_count": 72,
      "metadata": {
        "colab": {
          "base_uri": "https://localhost:8080/"
        },
        "id": "Qq66aj4fxZvF",
        "outputId": "d345e9c7-54c3-48a9-d141-1150c97ba873"
      },
      "outputs": [
        {
          "name": "stderr",
          "output_type": "stream",
          "text": [
            "100%|██████████| 189/189 [03:52<00:00,  1.23s/it]\n"
          ]
        },
        {
          "name": "stdout",
          "output_type": "stream",
          "text": [
            "Got 1755 / 2112 with accuracy 83.10\n",
            "=> Saving checkpoint\n"
          ]
        },
        {
          "name": "stderr",
          "output_type": "stream",
          "text": [
            "100%|██████████| 189/189 [03:52<00:00,  1.23s/it]\n"
          ]
        },
        {
          "name": "stdout",
          "output_type": "stream",
          "text": [
            "Got 1775 / 2112 with accuracy 84.04\n",
            "=> Saving checkpoint\n"
          ]
        },
        {
          "name": "stderr",
          "output_type": "stream",
          "text": [
            "100%|██████████| 189/189 [03:52<00:00,  1.23s/it]\n"
          ]
        },
        {
          "name": "stdout",
          "output_type": "stream",
          "text": [
            "Got 1784 / 2112 with accuracy 84.47\n",
            "=> Saving checkpoint\n"
          ]
        },
        {
          "name": "stderr",
          "output_type": "stream",
          "text": [
            "100%|██████████| 189/189 [03:52<00:00,  1.23s/it]\n"
          ]
        },
        {
          "name": "stdout",
          "output_type": "stream",
          "text": [
            "Got 1792 / 2112 with accuracy 84.85\n",
            "=> Saving checkpoint\n"
          ]
        },
        {
          "name": "stderr",
          "output_type": "stream",
          "text": [
            "100%|██████████| 189/189 [03:52<00:00,  1.23s/it]\n"
          ]
        },
        {
          "name": "stdout",
          "output_type": "stream",
          "text": [
            "Got 1792 / 2112 with accuracy 84.85\n",
            "=> Saving checkpoint\n"
          ]
        },
        {
          "name": "stderr",
          "output_type": "stream",
          "text": [
            "100%|██████████| 189/189 [03:52<00:00,  1.23s/it]\n"
          ]
        },
        {
          "name": "stdout",
          "output_type": "stream",
          "text": [
            "Got 1757 / 2112 with accuracy 83.19\n",
            "=> Saving checkpoint\n"
          ]
        },
        {
          "name": "stderr",
          "output_type": "stream",
          "text": [
            "100%|██████████| 189/189 [03:52<00:00,  1.23s/it]\n"
          ]
        },
        {
          "name": "stdout",
          "output_type": "stream",
          "text": [
            "Got 1772 / 2112 with accuracy 83.90\n",
            "=> Saving checkpoint\n",
            "Early Stopping!\n"
          ]
        }
      ],
      "source": [
        "## Define Hyperparameters\n",
        "model = model.to(device)\n",
        "epochs = 20\n",
        "loss_fn = nn.CrossEntropyLoss()\n",
        "optimizer = torch.optim.Adam(model.parameters(), lr=0.001)\n",
        "scaler = torch.cuda.amp.GradScaler()\n",
        "early_stopping = EarlyStopping(3)\n",
        "\n",
        "## Train Model\n",
        "for epoch in range(epochs):\n",
        "    train_one_epoch(trainloader, model, optimizer, loss_fn, scaler, device)\n",
        "    acc = check_accuracy(validloader, model)\n",
        "    checkpoint = {'state_dict': model.state_dict(), 'optimizer': optimizer.state_dict()}\n",
        "    save_checkpoint(checkpoint, filename=\"./my_checkpoint.pth.tar\")\n",
        "    if early_stopping(acc): break"
      ]
    },
    {
      "cell_type": "markdown",
      "metadata": {
        "id": "suPD9C-oF__T"
      },
      "source": [
        "### Check Model Accuracy"
      ]
    },
    {
      "cell_type": "code",
      "execution_count": 73,
      "metadata": {
        "colab": {
          "base_uri": "https://localhost:8080/"
        },
        "id": "eR46cupGxZvG",
        "outputId": "9cab403c-033d-4017-e726-9c04c7e210a3"
      },
      "outputs": [
        {
          "name": "stdout",
          "output_type": "stream",
          "text": [
            "Got 1772 / 2112 with accuracy 83.90\n"
          ]
        },
        {
          "data": {
            "text/plain": [
              "83.90151515151516"
            ]
          },
          "execution_count": 73,
          "metadata": {},
          "output_type": "execute_result"
        }
      ],
      "source": [
        "check_accuracy(validloader, model)"
      ]
    }
  ],
  "metadata": {
    "accelerator": "GPU",
    "colab": {
      "collapsed_sections": [
        "auQOxs_qBCFi"
      ],
      "name": "transfer_learning_pytorch.ipynb",
      "provenance": []
    },
    "interpreter": {
      "hash": "5fe0241243aff0cc9d356e75d944cfe847f3f763f2f6a0f50b85ff52f11d0170"
    },
    "kernelspec": {
      "display_name": "PyTorch 1.10.0",
      "language": "python",
      "name": "python3"
    },
    "language_info": {
      "codemirror_mode": {
        "name": "ipython",
        "version": 3
      },
      "file_extension": ".py",
      "mimetype": "text/x-python",
      "name": "python",
      "nbconvert_exporter": "python",
      "pygments_lexer": "ipython3",
      "version": "3.9.12"
    }
  },
  "nbformat": 4,
  "nbformat_minor": 0
}
