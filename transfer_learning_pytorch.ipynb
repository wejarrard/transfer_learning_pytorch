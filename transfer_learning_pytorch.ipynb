{
  "cells": [
    {
      "cell_type": "markdown",
      "metadata": {
        "id": "eBaOD2dmxZu0"
      },
      "source": [
        "# Transfer Learning Using Pytorch"
      ]
    },
    {
      "cell_type": "markdown",
      "metadata": {
        "id": "rTnqlZG8x82S"
      },
      "source": [
        "## Imports"
      ]
    },
    {
      "cell_type": "code",
      "execution_count": 1,
      "metadata": {
        "colab": {
          "base_uri": "https://localhost:8080/"
        },
        "id": "RY6fwdTPx_iY",
        "outputId": "986e314b-0f3c-4ce3-f9a3-9ef4c0496a33"
      },
      "outputs": [
        {
          "output_type": "stream",
          "name": "stdout",
          "text": [
            "Mounted at /content/drive\n",
            "/content/drive/.shortcut-targets-by-id/1eNAO8TfHfvKSUgq3DbaFUHpT7f4gcTwH/MSDS Spring/deeplearning\n"
          ]
        }
      ],
      "source": [
        "import torch\n",
        "import torch.nn as nn\n",
        "import torchvision\n",
        "import numpy as np\n",
        "from tqdm import tqdm\n",
        "import time\n",
        "import copy\n",
        "from torch.utils.data import Dataset, Subset, random_split, DataLoader\n",
        "import torchvision.transforms as transforms\n",
        "import torchvision.datasets as datasets\n",
        "import matplotlib.pyplot as plt\n",
        "from google.colab import drive\n",
        "import os\n",
        "from torchsummary import summary\n",
        "\n",
        "drive.mount('/content/drive')\n",
        "%matplotlib inline\n",
        "%cd drive/MyDrive/MSDS\\ Spring/deeplearning"
      ]
    },
    {
      "cell_type": "markdown",
      "metadata": {
        "id": "6gQ4db26yobr"
      },
      "source": [
        "## Read and Explore Data"
      ]
    },
    {
      "cell_type": "markdown",
      "metadata": {
        "id": "hafza95G8BhR"
      },
      "source": [
        "### Set device if using GPU"
      ]
    },
    {
      "cell_type": "code",
      "execution_count": 2,
      "metadata": {
        "colab": {
          "base_uri": "https://localhost:8080/"
        },
        "id": "v37U2k2fxZu7",
        "outputId": "671e44aa-f6cc-46ec-ad93-853c69a69208"
      },
      "outputs": [
        {
          "output_type": "stream",
          "name": "stdout",
          "text": [
            "cuda\n",
            "1 gpus detected.\n"
          ]
        }
      ],
      "source": [
        "# Set device\n",
        "device = torch.device(\"cuda\" if torch.cuda.is_available() else \"cpu\")\n",
        "print(device)\n",
        "\n",
        "# Check for multiple gpus (I just came across this and wanted to have it in case i use it in the future, not using it during this hw)\n",
        "if torch.cuda.is_available():\n",
        "    gpu_count = torch.cuda.device_count()\n",
        "    print(f'{gpu_count} gpus detected.')\n",
        "    if gpu_count > 1:\n",
        "        multi_gpu = True\n",
        "    else:\n",
        "        multi_gpu = False"
      ]
    },
    {
      "cell_type": "markdown",
      "metadata": {
        "id": "qpn7pti9zAGj"
      },
      "source": [
        "### Define functions and classes for data preprocessing"
      ]
    },
    {
      "cell_type": "code",
      "execution_count": 3,
      "metadata": {
        "id": "lADex7pQxZu_"
      },
      "outputs": [],
      "source": [
        "# Get mean and std\n",
        "def getMeanStd(loader):\n",
        "    # var[X] = E[X**2] - E[X]**2\n",
        "    channels_sum, channels_sqrd_sum, num_batches = 0, 0, 0\n",
        "\n",
        "    for data, _ in tqdm(loader):\n",
        "        channels_sum += torch.mean(data, dim=[0, 2, 3])\n",
        "        channels_sqrd_sum += torch.mean(data ** 2, dim=[0, 2, 3])\n",
        "        num_batches += 1\n",
        "\n",
        "    mean = channels_sum / num_batches\n",
        "    std = (channels_sqrd_sum / num_batches - mean ** 2) ** 0.5\n",
        "\n",
        "    return mean, std\n",
        "\n",
        "# Need to do this to add transformations to training but not to validation\n",
        "class PrepData(Dataset):\n",
        "    def __init__(self, dataset, transform=None):\n",
        "        self.dataset = dataset\n",
        "        self.transform = transform\n",
        "\n",
        "    def __getitem__(self, index):\n",
        "        if self.transform:\n",
        "            x = self.transform(dataset[index][0])\n",
        "        else:\n",
        "            x = dataset[index][0]\n",
        "        y = dataset[index][1]\n",
        "        return x, y\n",
        "    \n",
        "    def __len__(self):\n",
        "        return len(dataset)\n",
        "    \n",
        "class PadImage(object):\n",
        "    def __call__(self, img):\n",
        "\n",
        "        width, height = transforms.functional.get_image_size(img) \n",
        "        \n",
        "        if width > height:\n",
        "            height_padding = ((width - height) // 2)\n",
        "            img = transforms.functional.pad(img, [0, height_padding])\n",
        "        else:\n",
        "            width_padding = ((height - width) // 2)\n",
        "            img = transforms.functional.pad(img, [width_padding, 0])           \n",
        "\n",
        "        return img\n",
        "\n",
        "    def __repr__(self):\n",
        "        return self.__class__.__name__+'()'"
      ]
    },
    {
      "cell_type": "markdown",
      "metadata": {
        "id": "auQOxs_qBCFi"
      },
      "source": [
        "### Get mean and standard deviation of train dataset to normalize our images (Only need to do this once so its commented out)"
      ]
    },
    {
      "cell_type": "code",
      "execution_count": 4,
      "metadata": {
        "id": "3lxYjfm_A8qI"
      },
      "outputs": [],
      "source": [
        "# # Parameters\n",
        "# data_dir = \"./content/dataset\"\n",
        "# batch_size = 64\n",
        "# img_height = 224\n",
        "# img_width = 224\n",
        "# train_size = 0.85\n",
        "# num_workers = 2\n",
        "\n",
        "# # Basic transformation for loading to get mean and std of data set\n",
        "# datatransform = transforms.Compose([\n",
        "#     transforms.ToTensor(),\n",
        "#     transforms.Resize((img_height, img_width))\n",
        "# ])\n",
        "\n",
        "# # Load dataset\n",
        "# dataset = datasets.ImageFolder(data_dir, transform=datatransform)\n",
        "\n",
        "# # Create the index splits for training, validation and test\n",
        "# num_train = len(dataset)\n",
        "# indices = list(range(num_train))\n",
        "# split = int(np.floor(train_size * num_train))\n",
        "# np.random.seed(1999)\n",
        "# np.random.shuffle(indices)\n",
        "# train_idx, valid_idx = indices[:split], indices[split:]\n",
        "\n",
        "# # Get mean and std of training subset (before transformations) - dont want to use test and valid for this part\n",
        "# traindataset = PrepData(dataset)\n",
        "# traindata = Subset(traindataset, indices=train_idx)\n",
        "# trainloader = DataLoader(traindata, batch_size=batch_size, num_workers=num_workers, drop_last=True)\n",
        "# mean, std = getMeanStd(trainloader)"
      ]
    },
    {
      "cell_type": "markdown",
      "metadata": {
        "id": "6SUJnV49z7Al"
      },
      "source": [
        "### Apply Preprocessing and take a look at the data we have"
      ]
    },
    {
      "cell_type": "code",
      "execution_count": 5,
      "metadata": {
        "id": "d1tIFqeCxZvA"
      },
      "outputs": [],
      "source": [
        "# Parameters\n",
        "data_dir = \"./content/dataset\"\n",
        "batch_size = 64\n",
        "img_height = 224\n",
        "img_width = 224\n",
        "train_size = 0.85\n",
        "num_workers = 2\n",
        "mean = torch.tensor([0.4407, 0.4332, 0.4326])\n",
        "std = torch.tensor([0.2520, 0.2610, 0.2906])\n",
        "\n",
        "# Basic transformation for loading to get mean and std of data set\n",
        "\n",
        "dataset = datasets.ImageFolder(data_dir)\n",
        "\n",
        "# Create the index splits for training, validation and test (test we dont have any for this)\n",
        "num_train = len(dataset)\n",
        "indices = list(range(num_train))\n",
        "split = int(np.floor(train_size * num_train))\n",
        "np.random.seed(1999)\n",
        "np.random.shuffle(indices)\n",
        "train_idx, valid_idx = indices[:split], indices[split:]\n",
        "\n",
        "# Set transforms\n",
        "traintransform = transforms.Compose([\n",
        "    transforms.ToTensor(),\n",
        "    PadImage(),\n",
        "    transforms.Resize((img_height, img_width)),\n",
        "    transforms.ColorJitter(brightness=0.01),\n",
        "    transforms.RandomAffine(degrees = 10, shear = 45),\n",
        "    transforms.Normalize(mean, std)\n",
        "])\n",
        "\n",
        "testtransform = transforms.Compose([\n",
        "    transforms.ToTensor(),\n",
        "    PadImage(),\n",
        "    transforms.Resize((img_height, img_width)),\n",
        "    transforms.Normalize(mean, std)\n",
        "])\n",
        "\n",
        "# Apply transformations\n",
        "traindataset = PrepData(dataset,traintransform)\n",
        "valdataset = PrepData(dataset,testtransform)\n",
        "\n",
        "# Use same subset as above\n",
        "traindata = Subset(traindataset, indices=train_idx)\n",
        "valdata = Subset(valdataset, indices=valid_idx)\n",
        "\n",
        "\n",
        "trainloader = DataLoader(traindata, batch_size=batch_size,\n",
        "                         num_workers=num_workers, drop_last=True)\n",
        "validloader = DataLoader(valdata, batch_size=batch_size,\n",
        "                         num_workers=num_workers, drop_last=True)\n"
      ]
    },
    {
      "cell_type": "markdown",
      "metadata": {
        "id": "_AEQmkDUz_VX"
      },
      "source": [
        "### Visualize what our data looks like after transformations are applied"
      ]
    },
    {
      "cell_type": "code",
      "execution_count": 6,
      "metadata": {
        "colab": {
          "base_uri": "https://localhost:8080/",
          "height": 304
        },
        "id": "pAVkuDc9xZvB",
        "outputId": "0c0f3b01-7607-4695-960a-0d9117335ad8"
      },
      "outputs": [
        {
          "output_type": "stream",
          "name": "stderr",
          "text": [
            "Clipping input data to the valid range for imshow with RGB data ([0..1] for floats or [0..255] for integers).\n"
          ]
        },
        {
          "output_type": "execute_result",
          "data": {
            "text/plain": [
              "<matplotlib.image.AxesImage at 0x7f62e6463e50>"
            ]
          },
          "metadata": {},
          "execution_count": 6
        },
        {
          "output_type": "display_data",
          "data": {
            "text/plain": [
              "<Figure size 432x288 with 1 Axes>"
            ],
            "image/png": "[encoded data removed]"
          },
          "metadata": {
            "needs_background": "light"
          }
        }
      ],
      "source": [
        "dataiter = iter(trainloader)\n",
        "images, labels = dataiter.next()\n",
        "plt.imshow(np.transpose(images[1].cpu().detach().numpy(), (1, 2, 0)))"
      ]
    },
    {
      "cell_type": "markdown",
      "metadata": {
        "id": "bMnZ9Wi00HTe"
      },
      "source": [
        "### Get Classes and count of classes to see if they are imbalanced"
      ]
    },
    {
      "cell_type": "code",
      "execution_count": 7,
      "metadata": {
        "colab": {
          "base_uri": "https://localhost:8080/"
        },
        "id": "hj6qDS1xxZvD",
        "outputId": "e03b4729-0895-4c74-e999-413941782d27"
      },
      "outputs": [
        {
          "output_type": "execute_result",
          "data": {
            "text/plain": [
              "{'AcademicalVillage': 408,\n",
              " 'AldermanLibrary': 742,\n",
              " 'AlumniHall': 457,\n",
              " 'AquaticFitnessCenter': 556,\n",
              " 'BravoHall': 200,\n",
              " 'BrooksHall': 410,\n",
              " 'ClarkHall': 849,\n",
              " 'MadisonHall': 368,\n",
              " 'MinorHall': 760,\n",
              " 'NewCabellHall': 636,\n",
              " 'NewcombHall': 716,\n",
              " 'OldCabellHall': 832,\n",
              " 'OlssonHall': 995,\n",
              " 'RiceHall': 1460,\n",
              " 'Rotunda': 1569,\n",
              " 'ScottStadium': 1257,\n",
              " 'ThorntonHall': 1219,\n",
              " 'UniversityChapel': 857}"
            ]
          },
          "metadata": {},
          "execution_count": 7
        }
      ],
      "source": [
        "classes = sorted([x[0][len(data_dir) + 1:] for x in os.walk(data_dir)][1:])\n",
        "\n",
        "class_count = dict(zip(classes, torch.unique(torch.tensor(dataset.targets), return_counts=True)[1].tolist()))\n",
        "\n",
        "class_count"
      ]
    },
    {
      "cell_type": "markdown",
      "metadata": {
        "id": "HDSfFVeD0nFe"
      },
      "source": [
        "### Define model and get its summary"
      ]
    },
    {
      "cell_type": "code",
      "execution_count": 8,
      "metadata": {
        "colab": {
          "base_uri": "https://localhost:8080/",
          "height": 67,
          "referenced_widgets": [
            "2ac72584ca2a4a48bcbb8920cb88ec43",
            "aff9f1919e754bbe9dfc27c0301c83ec",
            "b0828a49fb9943e1acec73b676b39870",
            "2ce01044d49e44a0aeded63dc6cd94c0",
            "2cefe8e6ef2e4c0aa111f280da97fa24",
            "5ae9e7e6386346fba2e0d4259eb9888d",
            "07ae86690fd94816824af6011c1eaf95",
            "83c621cdd2984cfb95659389f7554f33",
            "0e8f6e761c024fe5a640259d01c3029f",
            "059b4d21e2954d83910ab92455079891",
            "21f111fc0da3489f99bab4bde02f66bc"
          ]
        },
        "id": "0W69BFSSxZvD",
        "outputId": "b7c8bc30-5c4a-4b28-dbc9-2c52c0376bbb"
      },
      "outputs": [
        {
          "output_type": "stream",
          "name": "stderr",
          "text": [
            "Downloading: \"https://download.pytorch.org/models/regnet_y_16gf-9e6ed7dd.pth\" to /root/.cache/torch/hub/checkpoints/regnet_y_16gf-9e6ed7dd.pth\n"
          ]
        },
        {
          "output_type": "display_data",
          "data": {
            "text/plain": [
              "  0%|          | 0.00/319M [00:00<?, ?B/s]"
            ],
            "application/vnd.jupyter.widget-view+json": {
              "version_major": 2,
              "version_minor": 0,
              "model_id": "2ac72584ca2a4a48bcbb8920cb88ec43"
            }
          },
          "metadata": {}
        }
      ],
      "source": [
        "model = torchvision.models.regnet_y_16gf(pretrained=True)\n",
        "\n",
        "# Freeze all the layers bar the last one\n",
        "# for param in model.parameters():\n",
        "#     param.requires_grad = False\n",
        "\n",
        "output_units = len(class_count)\n",
        "    \n",
        "# Change the number of output units\n",
        "model.fc = nn.Linear(3024, output_units)\n",
        "\n",
        "# print summary (commented out because its long)\n",
        "# summary(model.to(device),\n",
        "#     input_size=(3, img_height, img_width), \n",
        "#     batch_size=batch_size, \n",
        "#     device='cuda')\n"
      ]
    },
    {
      "cell_type": "markdown",
      "metadata": {
        "id": "6mHCQTxM03tK"
      },
      "source": [
        "### Make sure model overfits on a small amount of data (one batch)"
      ]
    },
    {
      "cell_type": "code",
      "execution_count": 9,
      "metadata": {
        "colab": {
          "base_uri": "https://localhost:8080/"
        },
        "id": "aKTt66f6xZvE",
        "outputId": "001cca73-728a-4622-9c00-b3df728e02dd"
      },
      "outputs": [
        {
          "output_type": "stream",
          "name": "stdout",
          "text": [
            "Cost at epoch 0 is 2.86258\n",
            "Cost at epoch 10 is 2.12791\n",
            "Cost at epoch 20 is 1.55923\n",
            "Cost at epoch 30 is 1.09628\n",
            "Cost at epoch 40 is 0.75821\n",
            "Cost at epoch 50 is 0.53022\n",
            "Cost at epoch 60 is 0.38205\n",
            "Cost at epoch 70 is 0.28617\n",
            "Cost at epoch 80 is 0.22287\n",
            "Cost at epoch 90 is 0.17961\n"
          ]
        }
      ],
      "source": [
        "# Network\n",
        "model = model.to(device) \n",
        "\n",
        "#just in case i want to use multiple gpus (this is for my own personal use, not using it in this class)\n",
        "if multi_gpu:\n",
        "    model = nn.DataParallel(model)\n",
        "\n",
        "# Loss and optimizer\n",
        "optimizer = torch.optim.Adam(model.parameters(), lr=3e-4, weight_decay=.001)\n",
        "criterion = nn.CrossEntropyLoss()\n",
        "num_epochs = 100\n",
        "\n",
        "data, targets = next(iter(trainloader))\n",
        "\n",
        "# Train Network\n",
        "for epoch in range(num_epochs):\n",
        "    losses = []\n",
        "    data = data.to(device=device)\n",
        "    targets = targets.to(device=device)\n",
        "\n",
        "    # forward\n",
        "    scores = model(data)\n",
        "    loss = criterion(scores, targets)\n",
        "\n",
        "    losses.append(loss.item())\n",
        "    \n",
        "    # backward\n",
        "    optimizer.zero_grad()\n",
        "    loss.backward()\n",
        "\n",
        "    # gradient descent or adam step\n",
        "    optimizer.step()\n",
        "    if epoch % 10 == 0:\n",
        "        print(f\"Cost at epoch {epoch} is {sum(losses)/len(losses):.5f}\")\n"
      ]
    },
    {
      "cell_type": "markdown",
      "metadata": {
        "id": "NIIrgNKwxZvE"
      },
      "source": [
        "## Training"
      ]
    },
    {
      "cell_type": "markdown",
      "metadata": {
        "id": "7zJw-etB6b0-"
      },
      "source": [
        "### Define Functions For Training"
      ]
    },
    {
      "cell_type": "code",
      "execution_count": 9,
      "metadata": {
        "id": "d9C-D6Ks6pma"
      },
      "outputs": [],
      "source": [
        "# Define functions\n",
        "def save_checkpoint(state, filename=\"my_checkpoint.pth.tar\"):\n",
        "    print(\"=> Saving checkpoint\")\n",
        "    torch.save(state, filename)\n",
        "\n",
        "def load_checkpoint(checkpoint, model, optimizer):\n",
        "    print(\"=> Loading checkpoint\")\n",
        "    model.load_state_dict(checkpoint['state_dict'])\n",
        "    optimizer.load_state_dict(checkpoint['optimizer'])\n",
        "\n",
        "def train_one_epoch(loader, model, optimizer, loss_fn, scaler, device):\n",
        "    for batch_idx, (data, targets) in enumerate(tqdm(loader)):\n",
        "        # Get data to cuda if possible\n",
        "        data = data.to(device=device)\n",
        "        targets = targets.to(device=device)\n",
        "\n",
        "        # forward\n",
        "        with torch.cuda.amp.autocast():\n",
        "            scores = model(data)\n",
        "            loss = loss_fn(scores, targets)\n",
        "\n",
        "        # backward\n",
        "        optimizer.zero_grad()\n",
        "        scaler.scale(loss).backward()\n",
        "        scaler.step(optimizer)\n",
        "        scaler.update()\n",
        "\n",
        "def get_loss_accuracy(loader, model, loss_fn):\n",
        "    num_correct = 0\n",
        "    num_samples = 0\n",
        "\n",
        "    running_loss = 0\n",
        "    mean_loss = 0\n",
        "\n",
        "    model.eval()\n",
        "\n",
        "    with torch.no_grad():\n",
        "        for i, (x, y) in enumerate(loader):\n",
        "            x = x.to(device=device)\n",
        "            y = y.to(device=device)\n",
        "\n",
        "            scores = model(x)\n",
        "\n",
        "            # update loss\n",
        "            loss = loss_fn(scores, y)\n",
        "            running_loss += loss.item()\n",
        "            mean_loss = running_loss/(i+1)\n",
        "\n",
        "            # update\n",
        "            _, predictions = scores.max(1)\n",
        "            num_correct += (predictions == y).sum()\n",
        "            num_samples += predictions.size(0)\n",
        "\n",
        "    accuracy = float(num_correct) / float(num_samples) * 100\n",
        "\n",
        "    print(f'Loss: {mean_loss}')\n",
        "    print(f'Got {num_correct} / {num_samples} with accuracy {accuracy:.2f}')\n",
        "\n",
        "    model.train()\n",
        "\n",
        "    return mean_loss, accuracy\n",
        "\n",
        "def check_accuracy(loader, model):\n",
        "    num_correct = 0\n",
        "    num_samples = 0\n",
        "    model.eval()\n",
        "\n",
        "    with torch.no_grad():\n",
        "        for x, y in loader:\n",
        "            x = x.to(device=device)\n",
        "            y = y.to(device=device)\n",
        "\n",
        "            scores = model(x)\n",
        "            _, predictions = scores.max(1)\n",
        "            num_correct += (predictions == y).sum()\n",
        "            num_samples += predictions.size(0)\n",
        "\n",
        "        print(f'Got {num_correct} / {num_samples} with accuracy {float(num_correct) / float(num_samples) * 100:.2f}')\n",
        "\n",
        "    model.train()\n",
        "\n",
        "# Define Classes\n",
        "\n",
        "class EarlyStopping():\n",
        "    def __init__(self, max_epochs):\n",
        "        self.max_epochs = max_epochs\n",
        "        self.current_epochs = 0\n",
        "        self.best_loss = np.inf\n",
        "\n",
        "    def __call__(self, current_loss):\n",
        "        if current_loss < self.best_loss:\n",
        "            self.best_loss = current_loss\n",
        "            self.current_epochs = 0\n",
        "        else:\n",
        "            self.current_epochs += 1\n",
        "            if self.current_epochs >= self.max_epochs:\n",
        "                print(\"Early Stopping!\")\n",
        "                return True\n",
        "\n",
        "class SaveBestModel():\n",
        "    def __init__(self):\n",
        "        self.best_valid_loss = np.inf\n",
        "        self.best_model = None\n",
        "        \n",
        "    def __call__(self, current_valid_loss, model, optimizer):\n",
        "        if current_valid_loss < self.best_valid_loss:\n",
        "            self.best_model = model\n",
        "            self.best_valid_loss = current_valid_loss\n",
        "            print(f\"Best validation loss: {self.best_valid_loss}\")\n",
        "            checkpoint = {'state_dict': model.state_dict(), 'optimizer': optimizer.state_dict()}\n",
        "            save_checkpoint(checkpoint, filename='best_model.pth')\n",
        "        return self.best_model\n"
      ]
    },
    {
      "cell_type": "markdown",
      "metadata": {
        "id": "njy8vZoy6pus"
      },
      "source": [
        "### Train Model"
      ]
    },
    {
      "cell_type": "code",
      "execution_count": 17,
      "metadata": {
        "colab": {
          "base_uri": "https://localhost:8080/"
        },
        "id": "Qq66aj4fxZvF",
        "outputId": "b88c11f3-3821-4211-a729-1034f2720906"
      },
      "outputs": [
        {
          "output_type": "stream",
          "name": "stderr",
          "text": [
            "100%|██████████| 189/189 [07:43<00:00,  2.45s/it]\n"
          ]
        },
        {
          "output_type": "stream",
          "name": "stdout",
          "text": [
            "Loss: 0.5207281618407278\n",
            "Got 1813 / 2112 with accuracy 85.84\n",
            "Best validation loss: 0.5207281618407278\n",
            "=> Saving checkpoint\n",
            "--------------------------------------------------\n"
          ]
        },
        {
          "output_type": "stream",
          "name": "stderr",
          "text": [
            "100%|██████████| 189/189 [07:43<00:00,  2.45s/it]\n"
          ]
        },
        {
          "output_type": "stream",
          "name": "stdout",
          "text": [
            "Loss: 0.39420453346136847\n",
            "Got 1894 / 2112 with accuracy 89.68\n",
            "Best validation loss: 0.39420453346136847\n",
            "=> Saving checkpoint\n",
            "--------------------------------------------------\n"
          ]
        },
        {
          "output_type": "stream",
          "name": "stderr",
          "text": [
            "100%|██████████| 189/189 [07:43<00:00,  2.45s/it]\n"
          ]
        },
        {
          "output_type": "stream",
          "name": "stdout",
          "text": [
            "Loss: 0.3432330150495876\n",
            "Got 1920 / 2112 with accuracy 90.91\n",
            "Best validation loss: 0.3432330150495876\n",
            "=> Saving checkpoint\n",
            "--------------------------------------------------\n"
          ]
        },
        {
          "output_type": "stream",
          "name": "stderr",
          "text": [
            "100%|██████████| 189/189 [07:43<00:00,  2.45s/it]\n"
          ]
        },
        {
          "output_type": "stream",
          "name": "stdout",
          "text": [
            "Loss: 0.3180406294537313\n",
            "Got 1944 / 2112 with accuracy 92.05\n",
            "Best validation loss: 0.3180406294537313\n",
            "=> Saving checkpoint\n",
            "--------------------------------------------------\n"
          ]
        },
        {
          "output_type": "stream",
          "name": "stderr",
          "text": [
            "100%|██████████| 189/189 [07:43<00:00,  2.45s/it]\n"
          ]
        },
        {
          "output_type": "stream",
          "name": "stdout",
          "text": [
            "Loss: 0.4523882418870926\n",
            "Got 1904 / 2112 with accuracy 90.15\n",
            "--------------------------------------------------\n"
          ]
        },
        {
          "output_type": "stream",
          "name": "stderr",
          "text": [
            "100%|██████████| 189/189 [07:43<00:00,  2.45s/it]\n"
          ]
        },
        {
          "output_type": "stream",
          "name": "stdout",
          "text": [
            "Loss: 0.3475282314148816\n",
            "Got 1952 / 2112 with accuracy 92.42\n",
            "--------------------------------------------------\n"
          ]
        },
        {
          "output_type": "stream",
          "name": "stderr",
          "text": [
            "100%|██████████| 189/189 [07:43<00:00,  2.45s/it]\n"
          ]
        },
        {
          "output_type": "stream",
          "name": "stdout",
          "text": [
            "Loss: 0.41245486745328613\n",
            "Got 1921 / 2112 with accuracy 90.96\n",
            "Early Stopping!\n"
          ]
        }
      ],
      "source": [
        "## Define Hyperparameters\n",
        "model = model.to(device)\n",
        "epochs = 20\n",
        "loss_fn = nn.CrossEntropyLoss()\n",
        "optimizer = torch.optim.Adam(model.parameters(), lr=0.001)\n",
        "scaler = torch.cuda.amp.GradScaler()\n",
        "early_stopping = EarlyStopping(max_epochs = 3)\n",
        "save_best_model = SaveBestModel()\n",
        "\n",
        "## Train Model\n",
        "for epoch in range(epochs): \n",
        "    train_one_epoch(trainloader, model, optimizer, loss_fn, scaler, device)\n",
        "    valid_loss, valid_accuracy = get_loss_accuracy(validloader, model, loss_fn)\n",
        "    best_model = save_best_model(valid_loss, model, optimizer)\n",
        "    if early_stopping(valid_loss): break\n",
        "    print(50 * '-')"
      ]
    },
    {
      "cell_type": "markdown",
      "metadata": {
        "id": "suPD9C-oF__T"
      },
      "source": [
        "### Check Model Accuracy"
      ]
    },
    {
      "cell_type": "code",
      "source": [
        "# Load model\n",
        "checkpoint = torch.load('best_model.pth')\n",
        "\n",
        "# Model\n",
        "model = torchvision.models.regnet_y_16gf(pretrained=True)\n",
        "output_units = len(class_count)\n",
        "model.fc = nn.Linear(3024, output_units)\n",
        "best_model = model.to(device)\n",
        "\n",
        "# Optimizer\n",
        "optimizer = torch.optim.Adam(best_model.parameters(), lr=0.001)\n",
        "\n",
        "# Load Checkpoint\n",
        "load_checkpoint(checkpoint, best_model, optimizer)"
      ],
      "metadata": {
        "colab": {
          "base_uri": "https://localhost:8080/"
        },
        "id": "8VyLo9ZR_bZb",
        "outputId": "8391a17c-719c-42fd-a60d-654210d3f142"
      },
      "execution_count": 16,
      "outputs": [
        {
          "output_type": "stream",
          "name": "stdout",
          "text": [
            "=> Loading checkpoint\n"
          ]
        }
      ]
    },
    {
      "cell_type": "code",
      "source": [
        "check_accuracy(validloader, best_model)"
      ],
      "metadata": {
        "colab": {
          "base_uri": "https://localhost:8080/"
        },
        "id": "UBuB9K2H_zYC",
        "outputId": "6dff2c6f-8664-4efc-ae60-b09fed672b4b"
      },
      "execution_count": 17,
      "outputs": [
        {
          "output_type": "stream",
          "name": "stdout",
          "text": [
            "Got 1944 / 2112 with accuracy 92.05\n"
          ]
        }
      ]
    }
  ],
  "metadata": {
    "accelerator": "GPU",
    "colab": {
      "collapsed_sections": [],
      "name": "transfer_learning_pytorch.ipynb",
      "provenance": [],
      "machine_shape": "hm"
    },
    "interpreter": {
      "hash": "5fe0241243aff0cc9d356e75d944cfe847f3f763f2f6a0f50b85ff52f11d0170"
    },
    "kernelspec": {
      "display_name": "PyTorch 1.10.0",
      "language": "python",
      "name": "python3"
    },
    "language_info": {
      "codemirror_mode": {
        "name": "ipython",
        "version": 3
      },
      "file_extension": ".py",
      "mimetype": "text/x-python",
      "name": "python",
      "nbconvert_exporter": "python",
      "pygments_lexer": "ipython3",
      "version": "3.9.12"
    },
    "widgets": {
      "application/vnd.jupyter.widget-state+json": {
        "2ac72584ca2a4a48bcbb8920cb88ec43": {
          "model_module": "@jupyter-widgets/controls",
          "model_name": "HBoxModel",
          "model_module_version": "1.5.0",
          "state": {
            "_dom_classes": [],
            "_model_module": "@jupyter-widgets/controls",
            "_model_module_version": "1.5.0",
            "_model_name": "HBoxModel",
            "_view_count": null,
            "_view_module": "@jupyter-widgets/controls",
            "_view_module_version": "1.5.0",
            "_view_name": "HBoxView",
            "box_style": "",
            "children": [
              "IPY_MODEL_aff9f1919e754bbe9dfc27c0301c83ec",
              "IPY_MODEL_b0828a49fb9943e1acec73b676b39870",
              "IPY_MODEL_2ce01044d49e44a0aeded63dc6cd94c0"
            ],
            "layout": "IPY_MODEL_2cefe8e6ef2e4c0aa111f280da97fa24"
          }
        },
        "aff9f1919e754bbe9dfc27c0301c83ec": {
          "model_module": "@jupyter-widgets/controls",
          "model_name": "HTMLModel",
          "model_module_version": "1.5.0",
          "state": {
            "_dom_classes": [],
            "_model_module": "@jupyter-widgets/controls",
            "_model_module_version": "1.5.0",
            "_model_name": "HTMLModel",
            "_view_count": null,
            "_view_module": "@jupyter-widgets/controls",
            "_view_module_version": "1.5.0",
            "_view_name": "HTMLView",
            "description": "",
            "description_tooltip": null,
            "layout": "IPY_MODEL_5ae9e7e6386346fba2e0d4259eb9888d",
            "placeholder": "​",
            "style": "IPY_MODEL_07ae86690fd94816824af6011c1eaf95",
            "value": "100%"
          }
        },
        "b0828a49fb9943e1acec73b676b39870": {
          "model_module": "@jupyter-widgets/controls",
          "model_name": "FloatProgressModel",
          "model_module_version": "1.5.0",
          "state": {
            "_dom_classes": [],
            "_model_module": "@jupyter-widgets/controls",
            "_model_module_version": "1.5.0",
            "_model_name": "FloatProgressModel",
            "_view_count": null,
            "_view_module": "@jupyter-widgets/controls",
            "_view_module_version": "1.5.0",
            "_view_name": "ProgressView",
            "bar_style": "success",
            "description": "",
            "description_tooltip": null,
            "layout": "IPY_MODEL_83c621cdd2984cfb95659389f7554f33",
            "max": 335009897,
            "min": 0,
            "orientation": "horizontal",
            "style": "IPY_MODEL_0e8f6e761c024fe5a640259d01c3029f",
            "value": 335009897
          }
        },
        "2ce01044d49e44a0aeded63dc6cd94c0": {
          "model_module": "@jupyter-widgets/controls",
          "model_name": "HTMLModel",
          "model_module_version": "1.5.0",
          "state": {
            "_dom_classes": [],
            "_model_module": "@jupyter-widgets/controls",
            "_model_module_version": "1.5.0",
            "_model_name": "HTMLModel",
            "_view_count": null,
            "_view_module": "@jupyter-widgets/controls",
            "_view_module_version": "1.5.0",
            "_view_name": "HTMLView",
            "description": "",
            "description_tooltip": null,
            "layout": "IPY_MODEL_059b4d21e2954d83910ab92455079891",
            "placeholder": "​",
            "style": "IPY_MODEL_21f111fc0da3489f99bab4bde02f66bc",
            "value": " 319M/319M [00:02&lt;00:00, 143MB/s]"
          }
        },
        "2cefe8e6ef2e4c0aa111f280da97fa24": {
          "model_module": "@jupyter-widgets/base",
          "model_name": "LayoutModel",
          "model_module_version": "1.2.0",
          "state": {
            "_model_module": "@jupyter-widgets/base",
            "_model_module_version": "1.2.0",
            "_model_name": "LayoutModel",
            "_view_count": null,
            "_view_module": "@jupyter-widgets/base",
            "_view_module_version": "1.2.0",
            "_view_name": "LayoutView",
            "align_content": null,
            "align_items": null,
            "align_self": null,
            "border": null,
            "bottom": null,
            "display": null,
            "flex": null,
            "flex_flow": null,
            "grid_area": null,
            "grid_auto_columns": null,
            "grid_auto_flow": null,
            "grid_auto_rows": null,
            "grid_column": null,
            "grid_gap": null,
            "grid_row": null,
            "grid_template_areas": null,
            "grid_template_columns": null,
            "grid_template_rows": null,
            "height": null,
            "justify_content": null,
            "justify_items": null,
            "left": null,
            "margin": null,
            "max_height": null,
            "max_width": null,
            "min_height": null,
            "min_width": null,
            "object_fit": null,
            "object_position": null,
            "order": null,
            "overflow": null,
            "overflow_x": null,
            "overflow_y": null,
            "padding": null,
            "right": null,
            "top": null,
            "visibility": null,
            "width": null
          }
        },
        "5ae9e7e6386346fba2e0d4259eb9888d": {
          "model_module": "@jupyter-widgets/base",
          "model_name": "LayoutModel",
          "model_module_version": "1.2.0",
          "state": {
            "_model_module": "@jupyter-widgets/base",
            "_model_module_version": "1.2.0",
            "_model_name": "LayoutModel",
            "_view_count": null,
            "_view_module": "@jupyter-widgets/base",
            "_view_module_version": "1.2.0",
            "_view_name": "LayoutView",
            "align_content": null,
            "align_items": null,
            "align_self": null,
            "border": null,
            "bottom": null,
            "display": null,
            "flex": null,
            "flex_flow": null,
            "grid_area": null,
            "grid_auto_columns": null,
            "grid_auto_flow": null,
            "grid_auto_rows": null,
            "grid_column": null,
            "grid_gap": null,
            "grid_row": null,
            "grid_template_areas": null,
            "grid_template_columns": null,
            "grid_template_rows": null,
            "height": null,
            "justify_content": null,
            "justify_items": null,
            "left": null,
            "margin": null,
            "max_height": null,
            "max_width": null,
            "min_height": null,
            "min_width": null,
            "object_fit": null,
            "object_position": null,
            "order": null,
            "overflow": null,
            "overflow_x": null,
            "overflow_y": null,
            "padding": null,
            "right": null,
            "top": null,
            "visibility": null,
            "width": null
          }
        },
        "07ae86690fd94816824af6011c1eaf95": {
          "model_module": "@jupyter-widgets/controls",
          "model_name": "DescriptionStyleModel",
          "model_module_version": "1.5.0",
          "state": {
            "_model_module": "@jupyter-widgets/controls",
            "_model_module_version": "1.5.0",
            "_model_name": "DescriptionStyleModel",
            "_view_count": null,
            "_view_module": "@jupyter-widgets/base",
            "_view_module_version": "1.2.0",
            "_view_name": "StyleView",
            "description_width": ""
          }
        },
        "83c621cdd2984cfb95659389f7554f33": {
          "model_module": "@jupyter-widgets/base",
          "model_name": "LayoutModel",
          "model_module_version": "1.2.0",
          "state": {
            "_model_module": "@jupyter-widgets/base",
            "_model_module_version": "1.2.0",
            "_model_name": "LayoutModel",
            "_view_count": null,
            "_view_module": "@jupyter-widgets/base",
            "_view_module_version": "1.2.0",
            "_view_name": "LayoutView",
            "align_content": null,
            "align_items": null,
            "align_self": null,
            "border": null,
            "bottom": null,
            "display": null,
            "flex": null,
            "flex_flow": null,
            "grid_area": null,
            "grid_auto_columns": null,
            "grid_auto_flow": null,
            "grid_auto_rows": null,
            "grid_column": null,
            "grid_gap": null,
            "grid_row": null,
            "grid_template_areas": null,
            "grid_template_columns": null,
            "grid_template_rows": null,
            "height": null,
            "justify_content": null,
            "justify_items": null,
            "left": null,
            "margin": null,
            "max_height": null,
            "max_width": null,
            "min_height": null,
            "min_width": null,
            "object_fit": null,
            "object_position": null,
            "order": null,
            "overflow": null,
            "overflow_x": null,
            "overflow_y": null,
            "padding": null,
            "right": null,
            "top": null,
            "visibility": null,
            "width": null
          }
        },
        "0e8f6e761c024fe5a640259d01c3029f": {
          "model_module": "@jupyter-widgets/controls",
          "model_name": "ProgressStyleModel",
          "model_module_version": "1.5.0",
          "state": {
            "_model_module": "@jupyter-widgets/controls",
            "_model_module_version": "1.5.0",
            "_model_name": "ProgressStyleModel",
            "_view_count": null,
            "_view_module": "@jupyter-widgets/base",
            "_view_module_version": "1.2.0",
            "_view_name": "StyleView",
            "bar_color": null,
            "description_width": ""
          }
        },
        "059b4d21e2954d83910ab92455079891": {
          "model_module": "@jupyter-widgets/base",
          "model_name": "LayoutModel",
          "model_module_version": "1.2.0",
          "state": {
            "_model_module": "@jupyter-widgets/base",
            "_model_module_version": "1.2.0",
            "_model_name": "LayoutModel",
            "_view_count": null,
            "_view_module": "@jupyter-widgets/base",
            "_view_module_version": "1.2.0",
            "_view_name": "LayoutView",
            "align_content": null,
            "align_items": null,
            "align_self": null,
            "border": null,
            "bottom": null,
            "display": null,
            "flex": null,
            "flex_flow": null,
            "grid_area": null,
            "grid_auto_columns": null,
            "grid_auto_flow": null,
            "grid_auto_rows": null,
            "grid_column": null,
            "grid_gap": null,
            "grid_row": null,
            "grid_template_areas": null,
            "grid_template_columns": null,
            "grid_template_rows": null,
            "height": null,
            "justify_content": null,
            "justify_items": null,
            "left": null,
            "margin": null,
            "max_height": null,
            "max_width": null,
            "min_height": null,
            "min_width": null,
            "object_fit": null,
            "object_position": null,
            "order": null,
            "overflow": null,
            "overflow_x": null,
            "overflow_y": null,
            "padding": null,
            "right": null,
            "top": null,
            "visibility": null,
            "width": null
          }
        },
        "21f111fc0da3489f99bab4bde02f66bc": {
          "model_module": "@jupyter-widgets/controls",
          "model_name": "DescriptionStyleModel",
          "model_module_version": "1.5.0",
          "state": {
            "_model_module": "@jupyter-widgets/controls",
            "_model_module_version": "1.5.0",
            "_model_name": "DescriptionStyleModel",
            "_view_count": null,
            "_view_module": "@jupyter-widgets/base",
            "_view_module_version": "1.2.0",
            "_view_name": "StyleView",
            "description_width": ""
          }
        }
      }
    }
  },
  "nbformat": 4,
  "nbformat_minor": 0
}